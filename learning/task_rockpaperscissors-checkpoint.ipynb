{
 "cells": [
  {
   "cell_type": "code",
   "execution_count": null,
   "metadata": {},
   "outputs": [],
   "source": [
    "user1 = input('enter any of the following : ROCK,PAPER,SCISSORS')\n",
    "user2 = input('enter any of the following : ROCK,PAPER,SCISSORS') \n",
    "user1 = str.upper(user1)\n",
    "user2 = str.upper(user2)\n",
    "\n",
    "#Def PLAYERS(user1, user2):\n",
    "    \n",
    "if user1 == user2:\n",
    "    \n",
    "    print(\"tie\")\n",
    "elif user1 ==\"PAPER\" and user2 ==\"ROCK\": \n",
    "    print(\"CONGRATS USER1\") \n",
    "elif user1 ==\"ROCK\" and  user2 ==\"PAPER\":\n",
    "    print(\"CONGRATS USER2\")\n",
    "elif user1 ==\"PAPER\" and  user2 ==\"SCISSORS\": \n",
    "    print(\"CONGRATS USER2\")\n",
    "elif user1 ==\"SCISSORS\" and  user2==\"PAPER\":\n",
    "    print(\"CONGRATS USER1\")#user1 = str.upper(user1)\n",
    "elif user1 ==\"SCISSORS\" and user2 ==\"ROCK\": \n",
    "    print(\"CONGRATS USER2\")\n",
    "elif user1 ==\"ROCK\" and  user2 ==\"SCISSORS\":\n",
    "    print(\"CONGRATS USER1\")   \n",
    "else:\n",
    "    print(\"please enter a valid option\")"
   ]
  }
 ],
 "metadata": {
  "kernelspec": {
   "display_name": "Python 3",
   "language": "python",
   "name": "python3"
  },
  "language_info": {
   "codemirror_mode": {
    "name": "ipython",
    "version": 3
   },
   "file_extension": ".py",
   "mimetype": "text/x-python",
   "name": "python",
   "nbconvert_exporter": "python",
   "pygments_lexer": "ipython3",
   "version": "3.7.3"
  }
 },
 "nbformat": 4,
 "nbformat_minor": 2
}
