{
 "cells": [
  {
   "cell_type": "markdown",
   "metadata": {},
   "source": [
    "# 1.Importing required modules"
   ]
  },
  {
   "cell_type": "code",
   "execution_count": null,
   "metadata": {},
   "outputs": [],
   "source": [
    "import os\n",
    "import pandas as pd\n",
    "import smtplib\n",
    "from email.mime.multipart import MIMEMultipart\n",
    "from email.mime.text import MIMEText\n",
    "from pymongo import MongoClient\n",
    "os.chdir(\"E:\\\\sample proj\")\n",
    "import glob\n",
    "import shutil\n",
    "from datetime import datetime\n",
    "from time import sleep\n",
    "import sys\n",
    "import logging\n",
    "logging.basicConfig(filename=\"logfile.log\", level=logging.INFO)"
   ]
  },
  {
   "cell_type": "markdown",
   "metadata": {},
   "source": [
    "# 2.Searching for files"
   ]
  },
  {
   "cell_type": "code",
   "execution_count": 2,
   "metadata": {},
   "outputs": [
    {
     "ename": "KeyboardInterrupt",
     "evalue": "",
     "output_type": "error",
     "traceback": [
      "\u001b[1;31m---------------------------------------------------------------------------\u001b[0m",
      "\u001b[1;31mKeyboardInterrupt\u001b[0m                         Traceback (most recent call last)",
      "\u001b[1;32m<ipython-input-2-7ebec0d7a2bc>\u001b[0m in \u001b[0;36m<module>\u001b[1;34m\u001b[0m\n\u001b[0;32m     12\u001b[0m     \u001b[1;32melse\u001b[0m\u001b[1;33m:\u001b[0m\u001b[1;33m\u001b[0m\u001b[1;33m\u001b[0m\u001b[0m\n\u001b[0;32m     13\u001b[0m         \u001b[0mlogging\u001b[0m\u001b[1;33m.\u001b[0m\u001b[0minfo\u001b[0m\u001b[1;33m(\u001b[0m\u001b[1;34m'waiting for files'\u001b[0m\u001b[1;33m)\u001b[0m\u001b[1;33m\u001b[0m\u001b[1;33m\u001b[0m\u001b[0m\n\u001b[1;32m---> 14\u001b[1;33m         \u001b[0msleep\u001b[0m\u001b[1;33m(\u001b[0m\u001b[1;36m20\u001b[0m\u001b[1;33m)\u001b[0m\u001b[1;33m\u001b[0m\u001b[1;33m\u001b[0m\u001b[0m\n\u001b[0m",
      "\u001b[1;31mKeyboardInterrupt\u001b[0m: "
     ]
    }
   ],
   "source": [
    "while True:\n",
    "    path,dirs,files=next(os.walk(\"E:\\\\sample proj\"))\n",
    "    file_count=len(files)\n",
    "    logging.info('searching for files')\n",
    "    if file_count > 6:\n",
    "        files_cy  = glob.glob('*cy*.csv')\n",
    "        files_ytd = glob.glob('*ytd*.csv')\n",
    "        logging.info('files found moving to next process')\n",
    "        logging.info('spliting files')\n",
    "        break\n",
    "        \n",
    "    else:\n",
    "        logging.info('waiting for files')\n",
    "        sleep(20)"
   ]
  },
  {
   "cell_type": "markdown",
   "metadata": {},
   "source": [
    "# 3.Connect to server & database"
   ]
  },
  {
   "cell_type": "code",
   "execution_count": null,
   "metadata": {},
   "outputs": [],
   "source": [
    "try: \n",
    "    conn = MongoClient() \n",
    "    print(\"Connected successfully!!!\") \n",
    "    logging.info('connecting to database')\n",
    "except:   \n",
    "    print(\"Could not connect to MongoDB\")\n",
    "    logging.info('error while coonecting to database')\n",
    "    "
   ]
  },
  {
   "cell_type": "code",
   "execution_count": 5,
   "metadata": {},
   "outputs": [],
   "source": [
    "db = conn.empdb"
   ]
  },
  {
   "cell_type": "markdown",
   "metadata": {},
   "source": [
    "# 4.Separating the files and insert into mongo colletions"
   ]
  },
  {
   "cell_type": "code",
   "execution_count": null,
   "metadata": {},
   "outputs": [],
   "source": [
    "for csv in files_cy:\n",
    "    \n",
    "    if 'cy_2017' in csv:\n",
    "        # reading the csv file\n",
    "        \n",
    "        df = pd.read_csv(csv)\n",
    "        \n",
    "        #connecting to table\n",
    "        collection = db.emp_cy_2017\n",
    "        \n",
    "        #removing previous data\n",
    "        collection.remove()\n",
    "        \n",
    "        #updating recent data\n",
    "        collection.insert(df.to_dict('records'))\n",
    "        \n",
    "    elif 'cy_2018' in csv:\n",
    "        df = pd.read_csv(csv)\n",
    "        collection = db.emp_cy_2018\n",
    "        collection.remove()\n",
    "        collection.insert(df.to_dict('records'))\n",
    "        \n",
    "    elif 'cy_2019' in csv:\n",
    "        df = pd.read_csv(csv)\n",
    "        collection = db.emp_cy_2019\n",
    "        collection.remove()\n",
    "        collection.insert(df.to_dict('records'))\n",
    "        \n",
    "logging.info('inserted CY data into database')        "
   ]
  },
  {
   "cell_type": "code",
   "execution_count": 7,
   "metadata": {},
   "outputs": [
    {
     "name": "stderr",
     "output_type": "stream",
     "text": [
      "C:\\Users\\SAIKRISHNA\\Anaconda3\\lib\\site-packages\\ipykernel_launcher.py:6: DeprecationWarning: remove is deprecated. Use delete_one or delete_many instead.\n",
      "  \n",
      "C:\\Users\\SAIKRISHNA\\Anaconda3\\lib\\site-packages\\ipykernel_launcher.py:7: DeprecationWarning: insert is deprecated. Use insert_one or insert_many instead.\n",
      "  import sys\n",
      "C:\\Users\\SAIKRISHNA\\Anaconda3\\lib\\site-packages\\ipykernel_launcher.py:12: DeprecationWarning: remove is deprecated. Use delete_one or delete_many instead.\n",
      "  if sys.path[0] == '':\n",
      "C:\\Users\\SAIKRISHNA\\Anaconda3\\lib\\site-packages\\ipykernel_launcher.py:13: DeprecationWarning: insert is deprecated. Use insert_one or insert_many instead.\n",
      "  del sys.path[0]\n",
      "C:\\Users\\SAIKRISHNA\\Anaconda3\\lib\\site-packages\\ipykernel_launcher.py:18: DeprecationWarning: remove is deprecated. Use delete_one or delete_many instead.\n",
      "C:\\Users\\SAIKRISHNA\\Anaconda3\\lib\\site-packages\\ipykernel_launcher.py:19: DeprecationWarning: insert is deprecated. Use insert_one or insert_many instead.\n"
     ]
    }
   ],
   "source": [
    "for csv in files_ytd:\n",
    "    \n",
    "    if 'ytd_2017' in csv:\n",
    "        df = pd.read_csv(csv)\n",
    "        collection = db.emp_ytd_2017\n",
    "        collection.remove()\n",
    "        collection.insert(df.to_dict('records'))\n",
    "        \n",
    "    elif 'ytd_2018' in csv:\n",
    "        df = pd.read_csv(csv)\n",
    "        collection = db.emp_ytd_2018\n",
    "        collection.remove()\n",
    "        collection.insert(df.to_dict('records'))\n",
    "        \n",
    "    elif 'ytd_2019' in csv:\n",
    "        df = pd.read_csv(csv)\n",
    "        collection = db.emp_ytd_2019\n",
    "        collection.remove()\n",
    "        collection.insert(df.to_dict('records'))\n",
    "\n",
    "logging.info('inserted YTD data into database') "
   ]
  },
  {
   "cell_type": "markdown",
   "metadata": {},
   "source": [
    "# 5.backup the files"
   ]
  },
  {
   "cell_type": "code",
   "execution_count": null,
   "metadata": {},
   "outputs": [],
   "source": [
    "today = datetime.now()\n",
    "name = today.strftime('%Y%m%d')\n",
    "path = os.getcwd()\n",
    "shutil.make_archive(name,'zip',path)\n",
    "logging.info('creating backup for files')"
   ]
  },
  {
   "cell_type": "markdown",
   "metadata": {},
   "source": [
    "# 6. mail"
   ]
  },
  {
   "cell_type": "code",
   "execution_count": 9,
   "metadata": {},
   "outputs": [],
   "source": [
    "li = [\"navyakrishnatest@gmail.com\",\"Srikarreddy0007@gmail.com\",\"mschary07@gmail.com\"]\n",
    "msg=MIMEMultipart()\n",
    "message=\"Six files updated, inserted into six collections\"\n",
    "msg.attach(MIMEText(message,'plain'))\n",
    "msg.attach(MIMEText(open(\"E:\\\\sample proj\\\\logfile.log\").read()))\n"
   ]
  },
  {
   "cell_type": "code",
   "execution_count": null,
   "metadata": {},
   "outputs": [],
   "source": [
    "for i in range(len(li)):\n",
    "    s = smtplib.SMTP('smtp.gmail.com',587)\n",
    "    s.starttls()\n",
    "    s.login(\"navyakrishnatest@gmail.com\", \"xxxxxxx\")\n",
    "    msg['Subject']= \"Files updated successfully\"\n",
    "    s.sendmail(\"navyakrishnatest@gmail.com\", li[i], msg.as_string())\n",
    "    s.quit()\n"
   ]
  }
 ],
 "metadata": {
  "kernelspec": {
   "display_name": "Python 3",
   "language": "python",
   "name": "python3"
  },
  "language_info": {
   "codemirror_mode": {
    "name": "ipython",
    "version": 3
   },
   "file_extension": ".py",
   "mimetype": "text/x-python",
   "name": "python",
   "nbconvert_exporter": "python",
   "pygments_lexer": "ipython3",
   "version": "3.7.1"
  }
 },
 "nbformat": 4,
 "nbformat_minor": 2
}
