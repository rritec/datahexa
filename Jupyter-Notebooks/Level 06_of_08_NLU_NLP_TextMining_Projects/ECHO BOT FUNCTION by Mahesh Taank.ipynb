{
 "cells": [
  {
   "cell_type": "markdown",
   "metadata": {},
   "source": [
    "## ECHO BOT FUNCTION\n",
    "**Business Case**: To concatenate the users message and reply with a delay 2 seconds"
   ]
  },
  {
   "cell_type": "markdown",
   "metadata": {},
   "source": [
    "### CODE"
   ]
  },
  {
   "cell_type": "code",
   "execution_count": 2,
   "metadata": {},
   "outputs": [],
   "source": [
    "user_template = \"USER: {0}\"\n",
    "bot_template = \"BOT: {0}\"\n",
    "def bot_response(message):\n",
    "    print(user_template.format(message))\n",
    "    import time\n",
    "    time.sleep(2)\n",
    "    user_message_response = \"I can hear you! You said: \" + message\n",
    "    print(bot_template.format(user_message_response))"
   ]
  },
  {
   "cell_type": "markdown",
   "metadata": {},
   "source": [
    "### OUTPUT"
   ]
  },
  {
   "cell_type": "code",
   "execution_count": 3,
   "metadata": {},
   "outputs": [
    {
     "name": "stdout",
     "output_type": "stream",
     "text": [
      "USER: Hello, my name is Alan!\n",
      "BOT: I can hear you! You said: Hello, my name is Alan!\n"
     ]
    }
   ],
   "source": [
    "bot_response(\"Hello, my name is Alan!\")"
   ]
  },
  {
   "cell_type": "code",
   "execution_count": 4,
   "metadata": {},
   "outputs": [
    {
     "name": "stdout",
     "output_type": "stream",
     "text": [
      "USER: The weather is awesome today!\n",
      "BOT: I can hear you! You said: The weather is awesome today!\n"
     ]
    }
   ],
   "source": [
    "bot_response(\"The weather is awesome today!\")"
   ]
  }
 ],
 "metadata": {
  "kernelspec": {
   "display_name": "Python 3",
   "language": "python",
   "name": "python3"
  },
  "language_info": {
   "codemirror_mode": {
    "name": "ipython",
    "version": 3
   },
   "file_extension": ".py",
   "mimetype": "text/x-python",
   "name": "python",
   "nbconvert_exporter": "python",
   "pygments_lexer": "ipython3",
   "version": "3.7.2"
  }
 },
 "nbformat": 4,
 "nbformat_minor": 2
}
