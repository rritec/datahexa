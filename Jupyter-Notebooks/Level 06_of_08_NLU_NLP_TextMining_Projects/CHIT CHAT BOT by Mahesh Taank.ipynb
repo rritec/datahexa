{
 "cells": [
  {
   "cell_type": "markdown",
   "metadata": {},
   "source": [
    "# CHIT CHAT BOT "
   ]
  },
  {
   "cell_type": "markdown",
   "metadata": {},
   "source": [
    "### Enabling single reponse for each question"
   ]
  },
  {
   "cell_type": "code",
   "execution_count": 44,
   "metadata": {},
   "outputs": [],
   "source": [
    "# Defining name and weather\n",
    "name = \"John\"\n",
    "weather = \"cloudy\""
   ]
  },
  {
   "cell_type": "code",
   "execution_count": 86,
   "metadata": {},
   "outputs": [
    {
     "data": {
      "text/plain": [
       "(dict_keys(['What is your name?', 'How is the weather?']),\n",
       " dict_keys(['Error']))"
      ]
     },
     "execution_count": 86,
     "metadata": {},
     "output_type": "execute_result"
    }
   ],
   "source": [
    "# defining a dictionary with corresponding responses\n",
    "response = {\"What is your name?\": \"My name is John!\",\n",
    "            \"How is the weather?\": \"The weather is cloudy.\"}\n",
    "failcase = {\"Error\": \"Sorry, I am not trained for this question.\"}\n",
    "response.keys(), failcase.keys()"
   ]
  },
  {
   "cell_type": "code",
   "execution_count": 88,
   "metadata": {},
   "outputs": [],
   "source": [
    "#defining a function to take user message and respond\n",
    "def chitchat(message):\n",
    "    if message in response:\n",
    "        print(response[message])\n",
    "    else:\n",
    "        print(failcase[\"Error\"])"
   ]
  },
  {
   "cell_type": "markdown",
   "metadata": {},
   "source": [
    "### Checking the output of the chit chat bot"
   ]
  },
  {
   "cell_type": "code",
   "execution_count": 89,
   "metadata": {},
   "outputs": [
    {
     "name": "stdout",
     "output_type": "stream",
     "text": [
      "Sorry, I am not trained for this question.\n"
     ]
    }
   ],
   "source": [
    "chitchat(\"How are you?\")"
   ]
  },
  {
   "cell_type": "code",
   "execution_count": 90,
   "metadata": {},
   "outputs": [
    {
     "name": "stdout",
     "output_type": "stream",
     "text": [
      "My name is John!\n"
     ]
    }
   ],
   "source": [
    "chitchat(\"What is your name?\")"
   ]
  },
  {
   "cell_type": "code",
   "execution_count": 91,
   "metadata": {},
   "outputs": [
    {
     "name": "stdout",
     "output_type": "stream",
     "text": [
      "The weather is cloudy.\n"
     ]
    }
   ],
   "source": [
    "chitchat(\"How is the weather?\")"
   ]
  },
  {
   "cell_type": "markdown",
   "metadata": {},
   "source": [
    "## Adding Variety of Answers via the chit chat bot\n",
    "- Multiple reponses available for same question using random function, which eliminates monotonousness"
   ]
  },
  {
   "cell_type": "code",
   "execution_count": 92,
   "metadata": {},
   "outputs": [],
   "source": [
    "import random\n",
    "name = \"Grace\"\n",
    "weather = \"cold\""
   ]
  },
  {
   "cell_type": "code",
   "execution_count": 118,
   "metadata": {},
   "outputs": [
    {
     "data": {
      "text/plain": [
       "(dict_keys(['What is your name?', 'How is the weather?', 'How are you?']),\n",
       " dict_keys(['Error']))"
      ]
     },
     "execution_count": 118,
     "metadata": {},
     "output_type": "execute_result"
    }
   ],
   "source": [
    "multi_responses = {\"What is your name?\": [\"My name is {}!\".format(name), \"I am {}\".format(name), \"I go by the name {}\".format(name), \"People call me {}\".format(name)], \n",
    "                   \"How is the weather?\": [\"The weather is {}.\".format(weather), \"It's {} today\".format(weather), \"It seems {}\".format(weather), \"{} breeze everywhere\".format(weather)], \n",
    "                   \"How are you?\": [\"I am doing good, How about you?\", \"I am doing great. How are you?\", \"very well! How do you do?\"]}\n",
    "failcase = {\"Error\": \"Sorry, I am not trained for this question.\"}\n",
    "multi_responses.keys(), failcase.keys()"
   ]
  },
  {
   "cell_type": "code",
   "execution_count": 110,
   "metadata": {},
   "outputs": [],
   "source": [
    "#defining a function to take users message and generate random reply from default reponse list\n",
    "def responses (message):\n",
    "    #check if the question is listed in standard response dictionary\n",
    "    if message in multi_responses:\n",
    "        print(random.choice(multi_responses[message]))\n",
    "    else:\n",
    "        print(failcase[\"Error\"])    "
   ]
  },
  {
   "cell_type": "markdown",
   "metadata": {},
   "source": [
    "### Checking random output of the chit chat bot"
   ]
  },
  {
   "cell_type": "code",
   "execution_count": 123,
   "metadata": {},
   "outputs": [
    {
     "name": "stdout",
     "output_type": "stream",
     "text": [
      "Sorry, I am not trained for this question.\n"
     ]
    }
   ],
   "source": [
    "responses(\"Hello\")"
   ]
  },
  {
   "cell_type": "code",
   "execution_count": 112,
   "metadata": {},
   "outputs": [
    {
     "name": "stdout",
     "output_type": "stream",
     "text": [
      "My name is Grace!\n"
     ]
    }
   ],
   "source": [
    "responses(\"What is your name?\")"
   ]
  },
  {
   "cell_type": "code",
   "execution_count": 113,
   "metadata": {},
   "outputs": [
    {
     "name": "stdout",
     "output_type": "stream",
     "text": [
      "I go by the name Grace\n"
     ]
    }
   ],
   "source": [
    "responses(\"What is your name?\")"
   ]
  },
  {
   "cell_type": "code",
   "execution_count": 114,
   "metadata": {},
   "outputs": [
    {
     "name": "stdout",
     "output_type": "stream",
     "text": [
      "People call me Grace\n"
     ]
    }
   ],
   "source": [
    "responses(\"What is your name?\")"
   ]
  },
  {
   "cell_type": "code",
   "execution_count": 115,
   "metadata": {},
   "outputs": [
    {
     "name": "stdout",
     "output_type": "stream",
     "text": [
      "It seems cold\n"
     ]
    }
   ],
   "source": [
    "responses(\"How is the weather?\")"
   ]
  },
  {
   "cell_type": "code",
   "execution_count": 116,
   "metadata": {},
   "outputs": [
    {
     "name": "stdout",
     "output_type": "stream",
     "text": [
      "The weather is cold.\n"
     ]
    }
   ],
   "source": [
    "responses(\"How is the weather?\")"
   ]
  },
  {
   "cell_type": "code",
   "execution_count": 119,
   "metadata": {},
   "outputs": [
    {
     "name": "stdout",
     "output_type": "stream",
     "text": [
      "I am doing good, How about you?\n"
     ]
    }
   ],
   "source": [
    "responses(\"How are you?\")"
   ]
  },
  {
   "cell_type": "code",
   "execution_count": 122,
   "metadata": {},
   "outputs": [
    {
     "name": "stdout",
     "output_type": "stream",
     "text": [
      "very well! How do you do?\n"
     ]
    }
   ],
   "source": [
    "responses(\"How are you?\")"
   ]
  }
 ],
 "metadata": {
  "kernelspec": {
   "display_name": "Python 3",
   "language": "python",
   "name": "python3"
  },
  "language_info": {
   "codemirror_mode": {
    "name": "ipython",
    "version": 3
   },
   "file_extension": ".py",
   "mimetype": "text/x-python",
   "name": "python",
   "nbconvert_exporter": "python",
   "pygments_lexer": "ipython3",
   "version": "3.7.2"
  }
 },
 "nbformat": 4,
 "nbformat_minor": 2
}
